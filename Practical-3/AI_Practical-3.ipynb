{
 "cells": [
  {
   "cell_type": "code",
   "execution_count": 1,
   "id": "68ac1cf7",
   "metadata": {},
   "outputs": [
    {
     "name": "stdout",
     "output_type": "stream",
     "text": [
      "(TWO, TWO, FOUR): (132, 132, 264)\n"
     ]
    }
   ],
   "source": [
    "from itertools import permutations\n",
    "\n",
    "def solve_cryptarithmetic():\n",
    "    # Define the letters and their possible values\n",
    "    letters = ['T', 'W', 'O', 'F', 'U', 'R']\n",
    "    digits = range(10)\n",
    "    \n",
    "    # Generate all possible permutations of digits for the letters\n",
    "    for perm in permutations(digits, len(letters)):\n",
    "        # Assign each digit to its corresponding letter\n",
    "        mapping = {letter: digit for letter, digit in zip(letters, perm)}\n",
    "        \n",
    "        # Check if the mapping satisfies the equation\n",
    "        if mapping['T'] != 0 and mapping['W'] != 0:\n",
    "            two = mapping['T']*100 + mapping['W']*10 + mapping['O']\n",
    "            two = mapping['T']*100 + mapping['W']*10 + mapping['O']\n",
    "            four = mapping['F']*1000 + mapping['O']*100 + mapping['U']*10 + mapping['R']*1\n",
    "            \n",
    "            if two + two == four:\n",
    "                # Return the solution\n",
    "                return {'TWO': two, 'TWO': two, 'FOUR': four}\n",
    "    \n",
    "    return None\n",
    "\n",
    "# Get the solution\n",
    "solution = solve_cryptarithmetic()\n",
    "\n",
    "# Print output\n",
    "if solution:\n",
    "    print('(TWO, TWO, FOUR):', (solution['TWO'], solution['TWO'], solution['FOUR']))\n",
    "else:\n",
    "    print(\"No solution found.\")\n"
   ]
  },
  {
   "cell_type": "code",
   "execution_count": 2,
   "id": "7b078f86",
   "metadata": {},
   "outputs": [
    {
     "name": "stdout",
     "output_type": "stream",
     "text": [
      "(SEND, MORE, MONEY): (9567, 1085, 10652)\n"
     ]
    }
   ],
   "source": [
    "from itertools import permutations\n",
    "\n",
    "def solve_cryptarithmetic():\n",
    "    # Define the letters and their possible values\n",
    "    letters = ['S', 'E', 'N', 'D', 'M', 'O', 'R', 'Y']\n",
    "    digits = range(10)\n",
    "    \n",
    "    # Generate all possible permutations of digits for the letters\n",
    "    for perm in permutations(digits, len(letters)):\n",
    "        # Assign each digit to its corresponding letter\n",
    "        mapping = {letter: digit for letter, digit in zip(letters, perm)}\n",
    "        \n",
    "        # Check if the mapping satisfies the equation\n",
    "        if mapping['S'] != 0 and mapping['M'] != 0:\n",
    "            send = mapping['S']*1000 + mapping['E']*100 + mapping['N']*10 + mapping['D']\n",
    "            more = mapping['M']*1000 + mapping['O']*100 + mapping['R']*10 + mapping['E']\n",
    "            money = mapping['M']*10000 + mapping['O']*1000 + mapping['N']*100 + mapping['E']*10 + mapping['Y']\n",
    "            \n",
    "            if send + more == money:\n",
    "                # Return the solution\n",
    "                return {'SEND': send, 'MORE': more, 'MONEY': money}\n",
    "    \n",
    "    return None\n",
    "\n",
    "# Get the solution\n",
    "solution = solve_cryptarithmetic()\n",
    "\n",
    "# Print output\n",
    "if solution:\n",
    "    print('(SEND, MORE, MONEY):', (solution['SEND'], solution['MORE'], solution['MONEY']))\n",
    "else:\n",
    "    print(\"No solution found.\")"
   ]
  },
  {
   "cell_type": "code",
   "execution_count": null,
   "id": "f9dddd26",
   "metadata": {},
   "outputs": [],
   "source": []
  }
 ],
 "metadata": {
  "kernelspec": {
   "display_name": "Python 3 (ipykernel)",
   "language": "python",
   "name": "python3"
  },
  "language_info": {
   "codemirror_mode": {
    "name": "ipython",
    "version": 3
   },
   "file_extension": ".py",
   "mimetype": "text/x-python",
   "name": "python",
   "nbconvert_exporter": "python",
   "pygments_lexer": "ipython3",
   "version": "3.8.10"
  }
 },
 "nbformat": 4,
 "nbformat_minor": 5
}
